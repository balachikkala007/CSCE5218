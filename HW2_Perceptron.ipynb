{
  "cells": [
    {
      "cell_type": "markdown",
      "source": [
        "# **CSCE 5218 / CSCE 4930 Deep Learning**\n",
        "\n",
        "# **HW1a The Perceptron** (20 pt)\n"
      ],
      "metadata": {
        "id": "vYiZq0X2oB5t"
      }
    },
    {
      "cell_type": "code",
      "execution_count": 1,
      "source": [
        "# Get the datasets\n",
        "!wget http://huang.eng.unt.edu/CSCE-5218/test.dat\n",
        "!wget http://huang.eng.unt.edu/CSCE-5218/train.dat\n"
      ],
      "outputs": [
        {
          "output_type": "stream",
          "name": "stdout",
          "text": [
            "--2023-02-17 19:38:53--  http://huang.eng.unt.edu/CSCE-5218/test.dat\n",
            "Resolving huang.eng.unt.edu (huang.eng.unt.edu)... 129.120.123.155\n",
            "Connecting to huang.eng.unt.edu (huang.eng.unt.edu)|129.120.123.155|:80... connected.\n",
            "HTTP request sent, awaiting response... 200 OK\n",
            "Length: 2844 (2.8K)\n",
            "Saving to: ‘test.dat’\n",
            "\n",
            "\rtest.dat              0%[                    ]       0  --.-KB/s               \rtest.dat            100%[===================>]   2.78K  --.-KB/s    in 0s      \n",
            "\n",
            "2023-02-17 19:38:53 (109 MB/s) - ‘test.dat’ saved [2844/2844]\n",
            "\n",
            "--2023-02-17 19:38:53--  http://huang.eng.unt.edu/CSCE-5218/train.dat\n",
            "Resolving huang.eng.unt.edu (huang.eng.unt.edu)... 129.120.123.155\n",
            "Connecting to huang.eng.unt.edu (huang.eng.unt.edu)|129.120.123.155|:80... connected.\n",
            "HTTP request sent, awaiting response... 200 OK\n",
            "Length: 11244 (11K)\n",
            "Saving to: ‘train.dat’\n",
            "\n",
            "train.dat           100%[===================>]  10.98K  --.-KB/s    in 0s      \n",
            "\n",
            "2023-02-17 19:38:53 (88.2 MB/s) - ‘train.dat’ saved [11244/11244]\n",
            "\n"
          ]
        }
      ],
      "metadata": {
        "colab": {
          "base_uri": "https://localhost:8080/"
        },
        "id": "vGVmKzgG2Ium",
        "outputId": "23cb1117-98a8-4059-ec7a-624e361a571c"
      }
    },
    {
      "cell_type": "code",
      "execution_count": 2,
      "source": [
        "# Take a peek at the datasets\n",
        "!head train.dat\n",
        "!head test.dat"
      ],
      "outputs": [
        {
          "output_type": "stream",
          "name": "stdout",
          "text": [
            "A1\tA2\tA3\tA4\tA5\tA6\tA7\tA8\tA9\tA10\tA11\tA12\tA13\t\n",
            "1\t1\t0\t0\t0\t0\t0\t0\t1\t1\t0\t0\t1\t0\n",
            "0\t0\t1\t1\t0\t1\t1\t0\t0\t0\t0\t0\t1\t0\n",
            "0\t1\t0\t1\t1\t0\t1\t0\t1\t1\t1\t0\t1\t1\n",
            "0\t0\t1\t0\t0\t1\t0\t1\t0\t1\t1\t1\t1\t0\n",
            "0\t1\t0\t0\t0\t0\t0\t1\t1\t1\t1\t1\t1\t0\n",
            "0\t1\t1\t1\t0\t0\t0\t1\t0\t1\t1\t0\t1\t1\n",
            "0\t1\t1\t0\t0\t0\t1\t0\t0\t0\t0\t0\t1\t0\n",
            "0\t0\t0\t1\t1\t0\t1\t1\t1\t0\t0\t0\t1\t0\n",
            "0\t0\t0\t0\t0\t0\t1\t0\t1\t0\t1\t0\t1\t0\n",
            "A1\tA2\tA3\tA4\tA5\tA6\tA7\tA8\tA9\tA10\tA11\tA12\tA13\n",
            "1\t1\t1\t1\t0\t0\t1\t1\t0\t0\t0\t1\t1\t0\n",
            "0\t0\t0\t1\t0\t0\t1\t1\t0\t1\t0\t0\t1\t0\n",
            "0\t1\t1\t1\t0\t1\t1\t1\t1\t0\t0\t0\t1\t0\n",
            "0\t1\t1\t0\t1\t0\t1\t1\t1\t0\t1\t0\t1\t0\n",
            "0\t1\t0\t0\t0\t1\t0\t1\t0\t1\t0\t0\t1\t0\n",
            "0\t1\t1\t0\t0\t1\t1\t1\t1\t1\t1\t0\t1\t0\n",
            "0\t1\t1\t1\t0\t0\t1\t1\t0\t0\t0\t1\t1\t0\n",
            "0\t1\t0\t0\t1\t0\t0\t1\t1\t0\t1\t1\t1\t0\n",
            "1\t1\t1\t1\t0\t0\t1\t1\t0\t0\t0\t0\t1\t0\n"
          ]
        }
      ],
      "metadata": {
        "colab": {
          "base_uri": "https://localhost:8080/"
        },
        "id": "A69DxPSc8vNs",
        "outputId": "1904a1ae-671e-42f7-bc68-0e39209d72e9"
      }
    },
    {
      "cell_type": "markdown",
      "source": [
        "### Build the Perceptron Model\n",
        "\n",
        "You will need to complete some of the function definitions below.  DO NOT import any other libraries to complete this. "
      ],
      "metadata": {
        "id": "rFXHLhnhwiBR"
      }
    },
    {
      "cell_type": "code",
      "execution_count": 7,
      "source": [
        "import math\n",
        "import itertools\n",
        "import re\n",
        "\n",
        "\n",
        "# Corpus reader, all columns but the last one are coordinates;\n",
        "#   the last column is the label\n",
        "def read_data(file_name):\n",
        "    f = open(file_name, 'r')\n",
        "\n",
        "    data = []\n",
        "    # Discard header line\n",
        "    f.readline()\n",
        "    for instance in f.readlines():\n",
        "        if not re.search('\\t', instance): continue\n",
        "        instance = list(map(int, instance.strip().split('\\t')))\n",
        "        # Add a dummy input so that w0 becomes the bias\n",
        "        instance = [-1] + instance\n",
        "        data += [instance]\n",
        "    return data\n",
        "\n",
        "\n",
        "def dot_product(array1, array2):\n",
        "    #TODO: Return dot product of array 1 and array 2\n",
        "    return sum([w * x for w, x in zip(array1, array2)]) \n",
        "\n",
        "\n",
        "def sigmoid(x):\n",
        "    #TODO: Return outpout of sigmoid function on x\n",
        "    return 1 / (1 + math.exp(-x))\n",
        "\n",
        "# The output of the model, which for the perceptron is \n",
        "# the sigmoid function applied to the dot product of \n",
        "# the instance and the weights\n",
        "def output(weight, instance):\n",
        "    #TODO: return the output of the model \n",
        "    linear_combination = dot_product(weight, instance[:-1])\n",
        "    output = sigmoid(linear_combination)\n",
        "    return output\n",
        "\n",
        "# Predict the label of an instance; this is the definition of the perceptron\n",
        "# you should output 1 if the output is >= 0.5 else output 0\n",
        "def predict(weights, instance):\n",
        "    #TODO: return the prediction of the model\n",
        "    if sigmoid(dot_product(weights, instance)) >= 0.5:\n",
        "        return 1\n",
        "    return 0\n",
        "\n",
        "# Accuracy = percent of correct predictions\n",
        "def get_accuracy(weights, instances):\n",
        "    # You do not to write code like this, but get used to it\n",
        "    correct = sum([1 if predict(weights, instance) == instance[-1] else 0\n",
        "                   for instance in instances])\n",
        "    return correct * 100 / len(instances)\n",
        "\n",
        "\n",
        "# Train a perceptron with instances and hyperparameters:\n",
        "#       lr (learning rate) \n",
        "#       epochs\n",
        "# The implementation comes from the definition of the perceptron\n",
        "#\n",
        "# Training consists on fitting the parameters which are the weights\n",
        "# that's the only thing training is responsible to fit\n",
        "# (recall that w0 is the bias, and w1..wn are the weights for each coordinate)\n",
        "#\n",
        "# Hyperparameters (lr and epochs) are given to the training algorithm\n",
        "# We are updating weights in the opposite direction of the gradient of the error,\n",
        "# so with a \"decent\" lr we are guaranteed to reduce the error after each iteration.\n",
        "def train_perceptron(instances, lr, epochs):\n",
        "\n",
        "    #TODO: Initialize the weight vector to all zeros, including the bias term\n",
        "    weights = [0] * (len(instances[0])-1)\n",
        "\n",
        "    for _ in range(epochs):\n",
        "        for instance in instances:\n",
        "            #TODO: Calculate the dot product of the weight vector and the input features\n",
        "            in_value = dot_product(weights, instance)\n",
        "            output = sigmoid(in_value)\n",
        "            error = instance[-1] - output\n",
        "            #TODO: In accordance with the Perceptron learning rule, update each weight in the weight vector.\n",
        "            for i in range(0, len(weights)):\n",
        "                weights[i] += lr * error * output * (1-output) * instance[i]\n",
        "\n",
        "    return weights"
      ],
      "outputs": [],
      "metadata": {
        "id": "cXAsP_lw3QwJ"
      }
    },
    {
      "cell_type": "markdown",
      "source": [
        "## Run it"
      ],
      "metadata": {
        "id": "adBZuMlAwiBT"
      }
    },
    {
      "cell_type": "code",
      "execution_count": 4,
      "source": [
        "instances_tr = read_data(\"train.dat\")\n",
        "instances_te = read_data(\"test.dat\")\n",
        "lr = 0.005\n",
        "epochs = 5\n",
        "weights = train_perceptron(instances_tr, lr, epochs)\n",
        "accuracy = get_accuracy(weights, instances_te)\n",
        "print(f\"#tr: {len(instances_tr):3}, epochs: {epochs:3}, learning rate: {lr:.3f}; \"\n",
        "      f\"Accuracy (test, {len(instances_te)} instances): {accuracy:.1f}\")"
      ],
      "outputs": [
        {
          "output_type": "stream",
          "name": "stdout",
          "text": [
            "#tr: 400, epochs:   5, learning rate: 0.005; Accuracy (test, 100 instances): 68.0\n"
          ]
        }
      ],
      "metadata": {
        "id": "50YvUza-BYQF",
        "colab": {
          "base_uri": "https://localhost:8080/"
        },
        "outputId": "42db10e8-5553-45f2-d598-27feb1376043"
      }
    },
    {
      "cell_type": "markdown",
      "source": [
        "## Questions\n",
        "\n",
        "Answer the following questions. Include your implementation and the output for each question."
      ],
      "metadata": {
        "id": "CBXkvaiQMohX"
      }
    },
    {
      "cell_type": "markdown",
      "source": [
        "\n",
        "\n",
        "### Question 1\n",
        "\n",
        "In `train_perceptron(instances, lr, epochs)`, we have the follosing code:\n",
        "```\n",
        "in_value = dot_product(weights, instance)\n",
        "output = sigmoid(in_value)\n",
        "error = instance[-1] - output\n",
        "```\n",
        "\n",
        "Why don't we have the following code snippet instead?\n",
        "```\n",
        "output = predict(weights, instance)\n",
        "error = instance[-1] - output\n",
        "```\n",
        "\n",
        "#### TODO Add your answer here (text only)\n",
        "\n",
        "\n"
      ],
      "metadata": {
        "id": "YCQ6BEk1CBlr"
      }
    },
    {
      "cell_type": "markdown",
      "source": [
        "#ANS:\n",
        "The sigmoid function is used to calculate the result in the provided code. Perceptrons frequently employ this activation function to translate input into a number between 0 and 1. The weighted total of the inputs, which is the activation function's input, is computed using the dot product function.\n",
        "\n",
        "1. The difference between the expected output (the final value in the instance list) and the actual output is then used to determine the error (the output variable).\n",
        "\n",
        "Instead of output = predict(weights, instance), the predict function uses the sigmoid function to predict the dot product of the weights and instance. In this case, we have already calculated the dot product in in_value and the sigmoid of in_value in output, so there is no need to call the predict function again."
      ],
      "metadata": {
        "id": "f5Yfq04C46gX"
      }
    },
    {
      "cell_type": "markdown",
      "source": [
        "### Question 2\n",
        "Train the perceptron with the following hyperparameters and calculate the accuracy with the test dataset.\n",
        "\n",
        "```\n",
        "tr_percent = [5, 10, 25, 50, 75, 100] # percent of the training dataset to train with\n",
        "num_epochs = [5, 10, 20, 50, 100]              # number of epochs\n",
        "lr = [0.005, 0.01, 0.05]              # learning rate\n",
        "```\n",
        "\n",
        "TODO: Write your code below and include the output at the end of each training loop (NOT AFTER EACH EPOCH)\n",
        "of your code.The output should look like the following:\n",
        "```\n",
        "# tr:  20, epochs:   5, learning rate: 0.005; Accuracy (test, 100 instances): 68.0\n",
        "# tr:  20, epochs:  10, learning rate: 0.005; Accuracy (test, 100 instances): 68.0\n",
        "# tr:  20, epochs:  20, learning rate: 0.005; Accuracy (test, 100 instances): 68.0\n",
        "[and so on for all the combinations]\n",
        "```\n",
        "You will get different results with different hyperparameters.\n",
        "\n",
        "#### TODO Add your answer here (code and output in the format above) \n"
      ],
      "metadata": {
        "id": "JU3c3m6YL2rK"
      }
    },
    {
      "cell_type": "code",
      "source": [
        "instances_tr = read_data(\"train.dat\")\n",
        "instances_te = read_data(\"test.dat\")\n",
        "tr_percent = [5, 10, 25, 50, 75, 100] \n",
        "num_epochs = [5, 10, 20, 50, 100]\n",
        "lr = [0.005, 0.01, 0.05]   \n",
        "\n",
        "for tr in tr_percent:\n",
        "    num_instances = int(len(instances_tr) * tr / 100)\n",
        "    instances = instances_tr[:num_instances]\n",
        "    for learning_rate in lr:\n",
        "        for epoch in num_epochs:\n",
        "            weights = train_perceptron(instances, learning_rate, epoch)\n",
        "            correct = 0\n",
        "            for instance in instances_te:\n",
        "                prediction = predict(weights, instance)\n",
        "                if prediction == instance[-1]:\n",
        "                    correct += 1      \n",
        "            accuracy = (correct / len(instances_te)) * 100\n",
        "            \n",
        "            print(\"tr: %3d, epochs: %3d, learning rate: %.3f; Accuracy (test, 100 instances): %.1f\" % (tr, epoch, learning_rate, accuracy))\n"
      ],
      "metadata": {
        "colab": {
          "base_uri": "https://localhost:8080/"
        },
        "id": "XAVJrqqckrEe",
        "outputId": "36e7bcdd-8566-4a83-de54-f3ee4c711e63"
      },
      "execution_count": 20,
      "outputs": [
        {
          "output_type": "stream",
          "name": "stdout",
          "text": [
            "tr:   5, epochs:   5, learning rate: 0.005; Accuracy (test, 100 instances): 68.0\n",
            "tr:   5, epochs:  10, learning rate: 0.005; Accuracy (test, 100 instances): 68.0\n",
            "tr:   5, epochs:  20, learning rate: 0.005; Accuracy (test, 100 instances): 68.0\n",
            "tr:   5, epochs:  50, learning rate: 0.005; Accuracy (test, 100 instances): 68.0\n",
            "tr:   5, epochs: 100, learning rate: 0.005; Accuracy (test, 100 instances): 68.0\n",
            "tr:   5, epochs:   5, learning rate: 0.010; Accuracy (test, 100 instances): 68.0\n",
            "tr:   5, epochs:  10, learning rate: 0.010; Accuracy (test, 100 instances): 68.0\n",
            "tr:   5, epochs:  20, learning rate: 0.010; Accuracy (test, 100 instances): 68.0\n",
            "tr:   5, epochs:  50, learning rate: 0.010; Accuracy (test, 100 instances): 68.0\n",
            "tr:   5, epochs: 100, learning rate: 0.010; Accuracy (test, 100 instances): 68.0\n",
            "tr:   5, epochs:   5, learning rate: 0.050; Accuracy (test, 100 instances): 68.0\n",
            "tr:   5, epochs:  10, learning rate: 0.050; Accuracy (test, 100 instances): 68.0\n",
            "tr:   5, epochs:  20, learning rate: 0.050; Accuracy (test, 100 instances): 68.0\n",
            "tr:   5, epochs:  50, learning rate: 0.050; Accuracy (test, 100 instances): 68.0\n",
            "tr:   5, epochs: 100, learning rate: 0.050; Accuracy (test, 100 instances): 64.0\n",
            "tr:  10, epochs:   5, learning rate: 0.005; Accuracy (test, 100 instances): 68.0\n",
            "tr:  10, epochs:  10, learning rate: 0.005; Accuracy (test, 100 instances): 68.0\n",
            "tr:  10, epochs:  20, learning rate: 0.005; Accuracy (test, 100 instances): 68.0\n",
            "tr:  10, epochs:  50, learning rate: 0.005; Accuracy (test, 100 instances): 68.0\n",
            "tr:  10, epochs: 100, learning rate: 0.005; Accuracy (test, 100 instances): 68.0\n",
            "tr:  10, epochs:   5, learning rate: 0.010; Accuracy (test, 100 instances): 68.0\n",
            "tr:  10, epochs:  10, learning rate: 0.010; Accuracy (test, 100 instances): 68.0\n",
            "tr:  10, epochs:  20, learning rate: 0.010; Accuracy (test, 100 instances): 68.0\n",
            "tr:  10, epochs:  50, learning rate: 0.010; Accuracy (test, 100 instances): 68.0\n",
            "tr:  10, epochs: 100, learning rate: 0.010; Accuracy (test, 100 instances): 68.0\n",
            "tr:  10, epochs:   5, learning rate: 0.050; Accuracy (test, 100 instances): 68.0\n",
            "tr:  10, epochs:  10, learning rate: 0.050; Accuracy (test, 100 instances): 68.0\n",
            "tr:  10, epochs:  20, learning rate: 0.050; Accuracy (test, 100 instances): 68.0\n",
            "tr:  10, epochs:  50, learning rate: 0.050; Accuracy (test, 100 instances): 71.0\n",
            "tr:  10, epochs: 100, learning rate: 0.050; Accuracy (test, 100 instances): 69.0\n",
            "tr:  25, epochs:   5, learning rate: 0.005; Accuracy (test, 100 instances): 68.0\n",
            "tr:  25, epochs:  10, learning rate: 0.005; Accuracy (test, 100 instances): 68.0\n",
            "tr:  25, epochs:  20, learning rate: 0.005; Accuracy (test, 100 instances): 68.0\n",
            "tr:  25, epochs:  50, learning rate: 0.005; Accuracy (test, 100 instances): 68.0\n",
            "tr:  25, epochs: 100, learning rate: 0.005; Accuracy (test, 100 instances): 68.0\n",
            "tr:  25, epochs:   5, learning rate: 0.010; Accuracy (test, 100 instances): 68.0\n",
            "tr:  25, epochs:  10, learning rate: 0.010; Accuracy (test, 100 instances): 68.0\n",
            "tr:  25, epochs:  20, learning rate: 0.010; Accuracy (test, 100 instances): 68.0\n",
            "tr:  25, epochs:  50, learning rate: 0.010; Accuracy (test, 100 instances): 68.0\n",
            "tr:  25, epochs: 100, learning rate: 0.010; Accuracy (test, 100 instances): 71.0\n",
            "tr:  25, epochs:   5, learning rate: 0.050; Accuracy (test, 100 instances): 68.0\n",
            "tr:  25, epochs:  10, learning rate: 0.050; Accuracy (test, 100 instances): 67.0\n",
            "tr:  25, epochs:  20, learning rate: 0.050; Accuracy (test, 100 instances): 70.0\n",
            "tr:  25, epochs:  50, learning rate: 0.050; Accuracy (test, 100 instances): 74.0\n",
            "tr:  25, epochs: 100, learning rate: 0.050; Accuracy (test, 100 instances): 77.0\n",
            "tr:  50, epochs:   5, learning rate: 0.005; Accuracy (test, 100 instances): 68.0\n",
            "tr:  50, epochs:  10, learning rate: 0.005; Accuracy (test, 100 instances): 68.0\n",
            "tr:  50, epochs:  20, learning rate: 0.005; Accuracy (test, 100 instances): 68.0\n",
            "tr:  50, epochs:  50, learning rate: 0.005; Accuracy (test, 100 instances): 67.0\n",
            "tr:  50, epochs: 100, learning rate: 0.005; Accuracy (test, 100 instances): 74.0\n",
            "tr:  50, epochs:   5, learning rate: 0.010; Accuracy (test, 100 instances): 68.0\n",
            "tr:  50, epochs:  10, learning rate: 0.010; Accuracy (test, 100 instances): 68.0\n",
            "tr:  50, epochs:  20, learning rate: 0.010; Accuracy (test, 100 instances): 68.0\n",
            "tr:  50, epochs:  50, learning rate: 0.010; Accuracy (test, 100 instances): 74.0\n",
            "tr:  50, epochs: 100, learning rate: 0.010; Accuracy (test, 100 instances): 78.0\n",
            "tr:  50, epochs:   5, learning rate: 0.050; Accuracy (test, 100 instances): 71.0\n",
            "tr:  50, epochs:  10, learning rate: 0.050; Accuracy (test, 100 instances): 77.0\n",
            "tr:  50, epochs:  20, learning rate: 0.050; Accuracy (test, 100 instances): 78.0\n",
            "tr:  50, epochs:  50, learning rate: 0.050; Accuracy (test, 100 instances): 78.0\n",
            "tr:  50, epochs: 100, learning rate: 0.050; Accuracy (test, 100 instances): 76.0\n",
            "tr:  75, epochs:   5, learning rate: 0.005; Accuracy (test, 100 instances): 68.0\n",
            "tr:  75, epochs:  10, learning rate: 0.005; Accuracy (test, 100 instances): 68.0\n",
            "tr:  75, epochs:  20, learning rate: 0.005; Accuracy (test, 100 instances): 68.0\n",
            "tr:  75, epochs:  50, learning rate: 0.005; Accuracy (test, 100 instances): 74.0\n",
            "tr:  75, epochs: 100, learning rate: 0.005; Accuracy (test, 100 instances): 78.0\n",
            "tr:  75, epochs:   5, learning rate: 0.010; Accuracy (test, 100 instances): 68.0\n",
            "tr:  75, epochs:  10, learning rate: 0.010; Accuracy (test, 100 instances): 68.0\n",
            "tr:  75, epochs:  20, learning rate: 0.010; Accuracy (test, 100 instances): 70.0\n",
            "tr:  75, epochs:  50, learning rate: 0.010; Accuracy (test, 100 instances): 78.0\n",
            "tr:  75, epochs: 100, learning rate: 0.010; Accuracy (test, 100 instances): 80.0\n",
            "tr:  75, epochs:   5, learning rate: 0.050; Accuracy (test, 100 instances): 74.0\n",
            "tr:  75, epochs:  10, learning rate: 0.050; Accuracy (test, 100 instances): 78.0\n",
            "tr:  75, epochs:  20, learning rate: 0.050; Accuracy (test, 100 instances): 79.0\n",
            "tr:  75, epochs:  50, learning rate: 0.050; Accuracy (test, 100 instances): 78.0\n",
            "tr:  75, epochs: 100, learning rate: 0.050; Accuracy (test, 100 instances): 77.0\n",
            "tr: 100, epochs:   5, learning rate: 0.005; Accuracy (test, 100 instances): 68.0\n",
            "tr: 100, epochs:  10, learning rate: 0.005; Accuracy (test, 100 instances): 68.0\n",
            "tr: 100, epochs:  20, learning rate: 0.005; Accuracy (test, 100 instances): 69.0\n",
            "tr: 100, epochs:  50, learning rate: 0.005; Accuracy (test, 100 instances): 73.0\n",
            "tr: 100, epochs: 100, learning rate: 0.005; Accuracy (test, 100 instances): 77.0\n",
            "tr: 100, epochs:   5, learning rate: 0.010; Accuracy (test, 100 instances): 68.0\n",
            "tr: 100, epochs:  10, learning rate: 0.010; Accuracy (test, 100 instances): 69.0\n",
            "tr: 100, epochs:  20, learning rate: 0.010; Accuracy (test, 100 instances): 70.0\n",
            "tr: 100, epochs:  50, learning rate: 0.010; Accuracy (test, 100 instances): 77.0\n",
            "tr: 100, epochs: 100, learning rate: 0.010; Accuracy (test, 100 instances): 80.0\n",
            "tr: 100, epochs:   5, learning rate: 0.050; Accuracy (test, 100 instances): 69.0\n",
            "tr: 100, epochs:  10, learning rate: 0.050; Accuracy (test, 100 instances): 76.0\n",
            "tr: 100, epochs:  20, learning rate: 0.050; Accuracy (test, 100 instances): 80.0\n",
            "tr: 100, epochs:  50, learning rate: 0.050; Accuracy (test, 100 instances): 80.0\n",
            "tr: 100, epochs: 100, learning rate: 0.050; Accuracy (test, 100 instances): 80.0\n"
          ]
        }
      ]
    },
    {
      "cell_type": "code",
      "execution_count": 5,
      "source": [
        "instances_tr = read_data(\"train.dat\")\n",
        "instances_te = read_data(\"test.dat\")\n",
        "tr_percent = [5, 10, 25, 50, 75, 100] # percent of the training dataset to train with\n",
        "num_epochs = [5, 10, 20, 50, 100]     # number of epochs\n",
        "lr_array = [0.005, 0.01, 0.05]        # learning rate\n",
        "\n",
        "for lr in lr_array:\n",
        "  for tr_size in tr_percent:\n",
        "    for epochs in num_epochs:\n",
        "      size =  round(len(instances_tr)*tr_size/100)\n",
        "      pre_instances = instances_tr[0:size]\n",
        "      weights = train_perceptron(pre_instances, lr, epochs)\n",
        "      accuracy = get_accuracy(weights, instances_te)\n",
        "    print(f\"#tr: {len(pre_instances):0}, epochs: {epochs:3}, learning rate: {lr:.3f}; \"\n",
        "            f\"Accuracy (test, {len(instances_te)} instances): {accuracy:.1f}\")"
      ],
      "outputs": [
        {
          "output_type": "stream",
          "name": "stdout",
          "text": [
            "#tr: 20, epochs: 100, learning rate: 0.005; Accuracy (test, 100 instances): 68.0\n",
            "#tr: 40, epochs: 100, learning rate: 0.005; Accuracy (test, 100 instances): 68.0\n",
            "#tr: 100, epochs: 100, learning rate: 0.005; Accuracy (test, 100 instances): 68.0\n",
            "#tr: 200, epochs: 100, learning rate: 0.005; Accuracy (test, 100 instances): 74.0\n",
            "#tr: 300, epochs: 100, learning rate: 0.005; Accuracy (test, 100 instances): 78.0\n",
            "#tr: 400, epochs: 100, learning rate: 0.005; Accuracy (test, 100 instances): 77.0\n",
            "#tr: 20, epochs: 100, learning rate: 0.010; Accuracy (test, 100 instances): 68.0\n",
            "#tr: 40, epochs: 100, learning rate: 0.010; Accuracy (test, 100 instances): 68.0\n",
            "#tr: 100, epochs: 100, learning rate: 0.010; Accuracy (test, 100 instances): 71.0\n",
            "#tr: 200, epochs: 100, learning rate: 0.010; Accuracy (test, 100 instances): 78.0\n",
            "#tr: 300, epochs: 100, learning rate: 0.010; Accuracy (test, 100 instances): 80.0\n",
            "#tr: 400, epochs: 100, learning rate: 0.010; Accuracy (test, 100 instances): 80.0\n",
            "#tr: 20, epochs: 100, learning rate: 0.050; Accuracy (test, 100 instances): 64.0\n",
            "#tr: 40, epochs: 100, learning rate: 0.050; Accuracy (test, 100 instances): 69.0\n",
            "#tr: 100, epochs: 100, learning rate: 0.050; Accuracy (test, 100 instances): 77.0\n",
            "#tr: 200, epochs: 100, learning rate: 0.050; Accuracy (test, 100 instances): 76.0\n",
            "#tr: 300, epochs: 100, learning rate: 0.050; Accuracy (test, 100 instances): 77.0\n",
            "#tr: 400, epochs: 100, learning rate: 0.050; Accuracy (test, 100 instances): 80.0\n"
          ]
        }
      ],
      "metadata": {
        "id": "G-VKJOUu2BTp",
        "colab": {
          "base_uri": "https://localhost:8080/"
        },
        "outputId": "d0433b0c-20f8-466f-d3d0-e4a90d5dd6f2"
      }
    },
    {
      "cell_type": "markdown",
      "source": [
        "### Question 3\n",
        "Write a couple paragraphs interpreting the results with all the combinations of hyperparameters. Drawing a plot will probably help you make a point. In particular, answer the following:\n",
        "- A. Do you need to train with all the training dataset to get the highest accuracy with the test dataset?\n",
        "- B. How do you justify that training the second run obtains worse accuracy than the first one (despite the second one uses more training data)?\n",
        "   ```\n",
        "#tr: 100, epochs:  20, learning rate: 0.050; Accuracy (test, 100 instances): 71.0\n",
        "#tr: 200, epochs:  20, learning rate: 0.005; Accuracy (test, 100 instances): 68.0\n",
        "```\n",
        "- C. Can you get higher accuracy with additional hyperparameters (higher than `80.0`)?\n",
        "- D. Is it always worth training for more epochs (while keeping all other hyperparameters fixed)?\n",
        "\n",
        "#### TODO: Add your answer here (code and text)\n",
        "\n"
      ],
      "metadata": {
        "id": "OFB9MtwML24O"
      }
    },
    {
      "cell_type": "markdown",
      "source": [
        "#3a. Do you need to train with all the training dataset to get the highest accuracy with the test dataset?\n",
        "\n",
        "To get the best accuracy with the test dataset, it is not required to train using all of the training data. The test dataset is used to assess the performance of the trained model after it has been trained using the training dataset. If the model is correctly trained on a representative sample of the training data, it ought to be able to generalize effectively to new, unexplored data, including the test dataset.\n",
        "\n"
      ],
      "metadata": {
        "id": "VCox88rCKuBn"
      }
    },
    {
      "cell_type": "markdown",
      "source": [
        "#3b How do you justify that training the second run obtains worse accuracy than the first one (despite the second one uses more training data)?\n",
        "\n",
        "Despite utilizing additional training data, there might be a number of reasons why the second run had worse accuracy than the first. The bigger training dataset could include more noise, outliers, or irrelevant samples, which the perceptron may have learnt to fit. This is one reason overfitting could be the cause. Unbalanced classes, subpar hyperparameters, or worse training data in the second run are some more potential causes."
      ],
      "metadata": {
        "id": "38rA_Kp3wiBX"
      }
    },
    {
      "cell_type": "markdown",
      "source": [
        "#3c. Can you get higher accuracy with additional hyperparameters (higher than 80.0)?\n",
        "\n",
        "t's possible to achieve higher accuracy than 80.0 with additional hyperparameters, but there are no guarantees. The accuracy of a perceptron depends on several factors, including the quality and size of the training data, the complexity of the problem, the learning rate, and the number of epochs. Optimizing hyperparameters may lead to improved accuracy, but it requires careful experimentation and tuning."
      ],
      "metadata": {
        "id": "rWsFCpMvLRa4"
      }
    },
    {
      "cell_type": "code",
      "source": [
        "instances_tr = read_data(\"train.dat\")\n",
        "instances_te = read_data(\"test.dat\")\n",
        "lr = 0.01\n",
        "epochs = 100\n",
        "weights = train_perceptron(instances_tr, lr, epochs)\n",
        "accuracy = get_accuracy(weights, instances_te)\n",
        "print(f\"#tr: {len(instances_tr):3}, epochs: {epochs:3}, learning rate: {lr:.3f}; \"\n",
        "      f\"Accuracy (test, {len(instances_te)} instances): {accuracy:.1f}\")"
      ],
      "metadata": {
        "colab": {
          "base_uri": "https://localhost:8080/"
        },
        "id": "Iy9nZAX5jGZC",
        "outputId": "7946f594-c7fb-4172-83d4-02f3035833fd"
      },
      "execution_count": 8,
      "outputs": [
        {
          "output_type": "stream",
          "name": "stdout",
          "text": [
            "#tr: 400, epochs: 100, learning rate: 0.010; Accuracy (test, 100 instances): 80.0\n"
          ]
        }
      ]
    },
    {
      "cell_type": "markdown",
      "source": [
        "#3d. Is it always worth training for more epochs (while keeping all other hyperparameters fixed)?\n",
        "\n",
        "No, it is not always efficient to train a perceptron for further epochs without taking other hyperparameters into account. More epochs of training can enhance performance, but it can also cause overfitting, when the perceptron becomes overly specialized to the training data and struggles on fresh, untrained input. Dependent on the task, data, and other hyperparameters, the ideal number of epochs is determined. It's critical to keep an eye on the training and validation errors and to halt training as soon as the perceptron exhibits signs of overfitting."
      ],
      "metadata": {
        "id": "Ug_IKtRvjG1x"
      }
    }
  ],
  "metadata": {
    "colab": {
      "provenance": []
    },
    "kernelspec": {
      "display_name": "Python 3",
      "name": "python3"
    },
    "language_info": {
      "codemirror_mode": {
        "name": "ipython",
        "version": 3
      },
      "file_extension": ".py",
      "mimetype": "text/x-python",
      "name": "python",
      "nbconvert_exporter": "python",
      "pygments_lexer": "ipython3",
      "version": "3.8.8"
    },
    "gpuClass": "standard"
  },
  "nbformat": 4,
  "nbformat_minor": 0
}